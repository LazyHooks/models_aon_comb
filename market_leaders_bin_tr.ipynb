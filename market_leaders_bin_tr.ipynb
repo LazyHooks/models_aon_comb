{
  "nbformat": 4,
  "nbformat_minor": 0,
  "metadata": {
    "colab": {
      "name": "Copy of Copy of corp fns_bp.ipynb",
      "provenance": [],
      "collapsed_sections": [],
      "include_colab_link": true
    },
    "kernelspec": {
      "name": "python3",
      "display_name": "Python 3"
    },
    "language_info": {
      "name": "python"
    }
  },
  "cells": [
    {
      "cell_type": "markdown",
      "metadata": {
        "id": "view-in-github",
        "colab_type": "text"
      },
      "source": [
        "<a href=\"https://colab.research.google.com/github/LazyHooks/models_aon_comb/blob/main/market_leaders_bin_tr.ipynb\" target=\"_parent\"><img src=\"https://colab.research.google.com/assets/colab-badge.svg\" alt=\"Open In Colab\"/></a>"
      ]
    },
    {
      "cell_type": "markdown",
      "source": [
        "imports"
      ],
      "metadata": {
        "id": "W0eOMjYCx88m"
      }
    },
    {
      "cell_type": "code",
      "execution_count": 66,
      "metadata": {
        "id": "eq2iPOakxtfc"
      },
      "outputs": [],
      "source": [
        "\n",
        "from numpy import loadtxt\n",
        "import pandas as pd\n",
        "from xgboost import XGBClassifier\n",
        "from sklearn.model_selection import train_test_split\n",
        "from sklearn.metrics import accuracy_score"
      ]
    },
    {
      "cell_type": "code",
      "source": [
        "pip install shap"
      ],
      "metadata": {
        "colab": {
          "base_uri": "https://localhost:8080/"
        },
        "id": "xeJXOy-Gyzsr",
        "outputId": "ace66c94-a1d0-4f98-e23e-d11cbf803084"
      },
      "execution_count": 67,
      "outputs": [
        {
          "output_type": "stream",
          "name": "stdout",
          "text": [
            "Looking in indexes: https://pypi.org/simple, https://us-python.pkg.dev/colab-wheels/public/simple/\n",
            "Requirement already satisfied: shap in /usr/local/lib/python3.7/dist-packages (0.41.0)\n",
            "Requirement already satisfied: scipy in /usr/local/lib/python3.7/dist-packages (from shap) (1.4.1)\n",
            "Requirement already satisfied: numba in /usr/local/lib/python3.7/dist-packages (from shap) (0.51.2)\n",
            "Requirement already satisfied: cloudpickle in /usr/local/lib/python3.7/dist-packages (from shap) (1.3.0)\n",
            "Requirement already satisfied: tqdm>4.25.0 in /usr/local/lib/python3.7/dist-packages (from shap) (4.64.0)\n",
            "Requirement already satisfied: numpy in /usr/local/lib/python3.7/dist-packages (from shap) (1.21.6)\n",
            "Requirement already satisfied: scikit-learn in /usr/local/lib/python3.7/dist-packages (from shap) (1.0.2)\n",
            "Requirement already satisfied: packaging>20.9 in /usr/local/lib/python3.7/dist-packages (from shap) (21.3)\n",
            "Requirement already satisfied: slicer==0.0.7 in /usr/local/lib/python3.7/dist-packages (from shap) (0.0.7)\n",
            "Requirement already satisfied: pandas in /usr/local/lib/python3.7/dist-packages (from shap) (1.3.5)\n",
            "Requirement already satisfied: pyparsing!=3.0.5,>=2.0.2 in /usr/local/lib/python3.7/dist-packages (from packaging>20.9->shap) (3.0.9)\n",
            "Requirement already satisfied: llvmlite<0.35,>=0.34.0.dev0 in /usr/local/lib/python3.7/dist-packages (from numba->shap) (0.34.0)\n",
            "Requirement already satisfied: setuptools in /usr/local/lib/python3.7/dist-packages (from numba->shap) (57.4.0)\n",
            "Requirement already satisfied: python-dateutil>=2.7.3 in /usr/local/lib/python3.7/dist-packages (from pandas->shap) (2.8.2)\n",
            "Requirement already satisfied: pytz>=2017.3 in /usr/local/lib/python3.7/dist-packages (from pandas->shap) (2022.1)\n",
            "Requirement already satisfied: six>=1.5 in /usr/local/lib/python3.7/dist-packages (from python-dateutil>=2.7.3->pandas->shap) (1.15.0)\n",
            "Requirement already satisfied: threadpoolctl>=2.0.0 in /usr/local/lib/python3.7/dist-packages (from scikit-learn->shap) (3.1.0)\n",
            "Requirement already satisfied: joblib>=0.11 in /usr/local/lib/python3.7/dist-packages (from scikit-learn->shap) (1.1.0)\n"
          ]
        }
      ]
    },
    {
      "cell_type": "markdown",
      "source": [
        "load data"
      ],
      "metadata": {
        "id": "lAsyArPAx-h1"
      }
    },
    {
      "cell_type": "code",
      "source": [
        "dataset = pd.read_csv('BP+Attr_Kashs Market Leading_B.csv')"
      ],
      "metadata": {
        "id": "iaoQtN77yB0H"
      },
      "execution_count": 68,
      "outputs": []
    },
    {
      "cell_type": "markdown",
      "source": [
        "split"
      ],
      "metadata": {
        "id": "ZUrp5wITyGIA"
      }
    },
    {
      "cell_type": "code",
      "source": [
        "X = dataset.iloc[:, 1:-1].values\n",
        "Y = dataset.iloc[:, -1].values"
      ],
      "metadata": {
        "id": "y30lbRf8zPQD"
      },
      "execution_count": 69,
      "outputs": []
    },
    {
      "cell_type": "markdown",
      "source": [
        "split"
      ],
      "metadata": {
        "id": "_oFo3nDczUv5"
      }
    },
    {
      "cell_type": "code",
      "source": [
        "seed = 7\n",
        "test_size = 0.33\n",
        "X_train, X_test, y_train, y_test = train_test_split(X, Y, test_size=test_size, random_state=seed)"
      ],
      "metadata": {
        "id": "SkvzlTQSzUdO"
      },
      "execution_count": 70,
      "outputs": []
    },
    {
      "cell_type": "markdown",
      "source": [
        "fit"
      ],
      "metadata": {
        "id": "tB88-h2tzifx"
      }
    },
    {
      "cell_type": "code",
      "source": [
        "model = XGBClassifier()\n",
        "model.fit(X_train, y_train)"
      ],
      "metadata": {
        "colab": {
          "base_uri": "https://localhost:8080/"
        },
        "id": "KtqDb2tEzjFh",
        "outputId": "49cd8d2d-d4f5-4370-9b66-fdcefc6d842f"
      },
      "execution_count": 71,
      "outputs": [
        {
          "output_type": "execute_result",
          "data": {
            "text/plain": [
              "XGBClassifier()"
            ]
          },
          "metadata": {},
          "execution_count": 71
        }
      ]
    },
    {
      "cell_type": "markdown",
      "source": [
        "print the model"
      ],
      "metadata": {
        "id": "VncjEISHzlcv"
      }
    },
    {
      "cell_type": "code",
      "source": [
        "print(model.feature_importances_)"
      ],
      "metadata": {
        "colab": {
          "base_uri": "https://localhost:8080/"
        },
        "id": "6wFCL9_lzhQi",
        "outputId": "98ec1c78-a282-4ca3-85d2-d42cdeb4a1cd"
      },
      "execution_count": 72,
      "outputs": [
        {
          "output_type": "stream",
          "name": "stdout",
          "text": [
            "[0.         0.         0.         0.         0.         0.36736757\n",
            " 0.         0.         0.         0.         0.         0.\n",
            " 0.         0.         0.10061993 0.         0.         0.\n",
            " 0.         0.         0.         0.50222045 0.         0.\n",
            " 0.         0.         0.02979202 0.         0.        ]\n"
          ]
        }
      ]
    },
    {
      "cell_type": "markdown",
      "source": [
        "feature importance & weights"
      ],
      "metadata": {
        "id": "39LBr8WtAPlt"
      }
    },
    {
      "cell_type": "code",
      "source": [
        "#0 Jr\n",
        "#1 Mid\n",
        "#2 Pay Positioning <20\n",
        "#3 Pay Positioning 20<x<40\n",
        "#4 Pay Positioning 40<X<60\n",
        "#5 Pay Positioning 60<X<80\n",
        "#6 Pay Positioning <80\n",
        "#7 Pay Range <20\n",
        "#8 Pay Range 20<x<40\n",
        "#9 Pay Range 40<X<60\n",
        "#10 Pay Range 60<X<80\n",
        "#11 Pay Range <80\n",
        "#12 Internal\n",
        "#13 Balanced\n",
        "#14 External\n",
        "#15 Pay Mix <20\n",
        "#16 Pay Mix 20<x<40\n",
        "#17 Pay Mix 40<X<60\n",
        "#18 Pay Mix 60<X<80\n",
        "#19 Pay Mix <80\n",
        "#20 Pay Differentiation <20\n",
        "#21 Pay Differentiation 20<x<40\n",
        "#22 Pay Differentiation 40<X<60\n",
        "#23 Pay Differentiation 60<X<80\n",
        "#24 Pay Differentiation <80\n",
        "#25 transparency 1\n",
        "#26 transparency 2\n",
        "#27 transparency 3\n",
        "#28 transparency 4"
      ],
      "metadata": {
        "id": "GoZSx2pz4qp1"
      },
      "execution_count": 73,
      "outputs": []
    },
    {
      "cell_type": "code",
      "source": [
        "from matplotlib import pyplot\n",
        "from xgboost import plot_importance\n",
        "pyplot.bar(range(len(model.feature_importances_)), model.feature_importances_)\n",
        "pyplot.show()\n",
        "import shap\n",
        "explainer = shap.Explainer(model)\n",
        "shap_values = explainer(X)\n",
        "shap.plots.beeswarm(shap_values)\n",
        "\t\n"
      ],
      "metadata": {
        "colab": {
          "base_uri": "https://localhost:8080/",
          "height": 616
        },
        "id": "3jFPKlRaARYV",
        "outputId": "73598e98-b857-4542-816f-9792caffbf44"
      },
      "execution_count": 74,
      "outputs": [
        {
          "output_type": "display_data",
          "data": {
            "text/plain": [
              "<Figure size 432x288 with 1 Axes>"
            ],
            "image/png": "[encoded data removed]"
          },
          "metadata": {
            "needs_background": "light"
          }
        },
        {
          "output_type": "display_data",
          "data": {
            "text/plain": [
              "<Figure size 576x396 with 2 Axes>"
            ],
            "image/png": "[encoded data removed]"
          },
          "metadata": {
            "needs_background": "light"
          }
        }
      ]
    },
    {
      "cell_type": "markdown",
      "source": [
        "predict"
      ],
      "metadata": {
        "id": "oLhsBpiOzwzr"
      }
    },
    {
      "cell_type": "code",
      "source": [
        "y_pred = model.predict(X_test)\n",
        "predictions = [round(value) for value in y_pred]"
      ],
      "metadata": {
        "id": "uhcvJOZnzuE_"
      },
      "execution_count": 75,
      "outputs": []
    },
    {
      "cell_type": "markdown",
      "source": [
        "evaluate predictions"
      ],
      "metadata": {
        "id": "0j8dvakyz4-r"
      }
    },
    {
      "cell_type": "code",
      "source": [
        "accuracy = accuracy_score(y_test, predictions)\n",
        "print(\"Accuracy: %.2f%%\" % (accuracy * 100.0))\n",
        "\n",
        "from sklearn.metrics import precision_score\n",
        "precision = precision_score(y_test, predictions, average='binary')\n",
        "print('Precision: %.3f' % precision)\n",
        "\n",
        "from sklearn.metrics import recall_score\n",
        "recall = recall_score(y_test, predictions, average='binary')\n",
        "print('Recall: %.3f' % recall)\n",
        "from sklearn.metrics import f1_score\n",
        "score = f1_score(y_test, predictions, average='binary')\n",
        "print('F-Measure: %.3f' % score)"
      ],
      "metadata": {
        "colab": {
          "base_uri": "https://localhost:8080/"
        },
        "id": "FEtzrdRwz3QB",
        "outputId": "84a9ece4-9afb-4da1-bf90-1aefbcc59185"
      },
      "execution_count": 76,
      "outputs": [
        {
          "output_type": "stream",
          "name": "stdout",
          "text": [
            "Accuracy: 100.00%\n",
            "Precision: 1.000\n",
            "Recall: 1.000\n",
            "F-Measure: 1.000\n"
          ]
        }
      ]
    },
    {
      "cell_type": "markdown",
      "source": [
        "visualise single"
      ],
      "metadata": {
        "id": "CvEI4wHy1mmq"
      }
    },
    {
      "cell_type": "code",
      "source": [
        "# visualize the first prediction's explanation\n",
        "shap.plots.waterfall(shap_values[0])"
      ],
      "metadata": {
        "colab": {
          "base_uri": "https://localhost:8080/",
          "height": 444
        },
        "id": "YMbYLMbn1oWH",
        "outputId": "5c089ba9-9eb7-4799-d83f-4db415c08ccf"
      },
      "execution_count": 77,
      "outputs": [
        {
          "output_type": "display_data",
          "data": {
            "text/plain": [
              "<Figure size 576x468 with 3 Axes>"
            ],
            "image/png": "[encoded data removed]"
          },
          "metadata": {}
        }
      ]
    },
    {
      "cell_type": "markdown",
      "source": [
        "predict 1"
      ],
      "metadata": {
        "id": "uJ31r67b105m"
      }
    },
    {
      "cell_type": "code",
      "source": [
        "#singlepred = model.predict([[0,1,1,1,1,0,0,5,5]])\n",
        "#singleprediction = [round(value) for value in y_pred]\n",
        "#print(singlepred)"
      ],
      "metadata": {
        "id": "h_wkvknp12Eu"
      },
      "execution_count": 78,
      "outputs": []
    }
  ]
}